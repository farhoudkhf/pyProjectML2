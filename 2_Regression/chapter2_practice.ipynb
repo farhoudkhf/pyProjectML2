{
 "cells": [
  {
   "cell_type": "code",
   "execution_count": 1,
   "id": "2ea70bfd",
   "metadata": {},
   "outputs": [],
   "source": [
    "import numpy as np\n",
    "import pandas as pd\n",
    "import seaborn as sns\n",
    "import matplotlib.pyplot as plt\n",
    "\n",
    "from pandas import Series, DataFrame\n",
    "from pylab import rcParams\n",
    "\n",
    "import sklearn\n",
    "# import the logistic regression model, as well as the metrics module from Scikit Learn - that's useful for scoring our predictive models.\n",
    "from sklearn import preprocessing, metrics\n",
    "from sklearn.linear_model import LogisticRegression\n",
    "from sklearn.model_selection import train_test_split, cross_val_predict\n",
    "from sklearn.metrics import classification_report, confusion_matrix, precision_score, recall_score"
   ]
  },
  {
   "cell_type": "code",
   "execution_count": 3,
   "id": "8729dec2",
   "metadata": {},
   "outputs": [],
   "source": [
    "%matplotlib inline\n",
    "rcParams['figure.figsize'] = 10, 8"
   ]
  },
  {
   "cell_type": "code",
   "execution_count": 54,
   "id": "99d5c1fc",
   "metadata": {},
   "outputs": [],
   "source": [
    "# rooms = np.random.rand(100, 1)\n",
    "rooms = 2*np.random.randn(100, 1)+3\n",
    "rooms_2nd = np.random.rand(100)\n",
    "rooms_3rd = np.random.randint(low=0, high=101, size=100)"
   ]
  },
  {
   "cell_type": "code",
   "execution_count": 55,
   "id": "9c306006",
   "metadata": {},
   "outputs": [
    {
     "name": "stdout",
     "output_type": "stream",
     "text": [
      "[-1.70381476] 2.9369891930914145 [8.18040904]\n"
     ]
    }
   ],
   "source": [
    "print(min(rooms), np.mean(rooms), max(rooms))"
   ]
  },
  {
   "cell_type": "code",
   "execution_count": 56,
   "id": "0555ed8e",
   "metadata": {},
   "outputs": [
    {
     "name": "stdout",
     "output_type": "stream",
     "text": [
      "0.0063632945398233165 0.5021082260956128 0.9882853974106856\n"
     ]
    }
   ],
   "source": [
    "print(min(rooms_2nd), np.mean(rooms_2nd), max(rooms_2nd))"
   ]
  },
  {
   "cell_type": "code",
   "execution_count": 57,
   "id": "3f646b0a",
   "metadata": {},
   "outputs": [
    {
     "name": "stdout",
     "output_type": "stream",
     "text": [
      "1 52.21 100\n"
     ]
    }
   ],
   "source": [
    "print(min(rooms_3rd), np.mean(rooms_3rd), max(rooms_3rd))\n",
    "# print(min(rooms_3rd), max(rooms_3rd))\n",
    "# print(rooms_3rd)"
   ]
  },
  {
   "cell_type": "code",
   "execution_count": 124,
   "id": "7b12a2d4",
   "metadata": {},
   "outputs": [
    {
     "name": "stdout",
     "output_type": "stream",
     "text": [
      "P_One_roll10: 5, 3, total: 8, runningTotal: 8\n",
      "P _ Tow _ _roll9: 2, 4, total: 6, runningTotal: 6\n",
      "P_One_roll8: 3, 4, total: 7, runningTotal: 15\n",
      "P _ Tow _ _roll7: 4, 3, total: 7, runningTotal: 13\n",
      "P_One_roll6: 5, 5, total: 10, runningTotal: 25\n",
      "P _ Tow _ _roll5: 3, 3, total: 6, runningTotal: 19\n",
      "P_One_roll4: 2, 4, total: 6, runningTotal: 31\n",
      "P _ Tow _ _roll3: 4, 4, total: 8, runningTotal: 27\n",
      "P_One_roll2: 6, 6, total: 12, runningTotal: 43\n",
      "P _ Tow _ _roll1: 4, 2, total: 6, runningTotal: 33\n",
      "player1Point total:  [8, 7, 10, 6, 12]\n",
      "player2Point total:  [6, 7, 6, 8, 6]\n",
      "Player One is the winner!\n"
     ]
    }
   ],
   "source": [
    "# 5 dice rolls between 2 players \n",
    "import time\n",
    "\n",
    "d1 = [] \n",
    "d2 = []\n",
    "player1Point = []\n",
    "player2Point = []\n",
    "player1PointTotal = 0\n",
    "player2PointTotal = 0\n",
    "\n",
    "for i in range(9, -1, -1):\n",
    "    dice1 = np.random.randint(low=1, high=7)\n",
    "    dice2 = np.random.randint(low=1, high=7)\n",
    "    diceRollTotal = dice1 + dice2\n",
    "    if i%2 != 0:\n",
    "        player1PointTotal += (diceRollTotal)\n",
    "        player1Point.append(diceRollTotal)\n",
    "    else:\n",
    "        player2PointTotal += (diceRollTotal)\n",
    "        player2Point.append(diceRollTotal)\n",
    "    playerNum = \"P_One\" if i%2 != 0 else \"P _ Tow _ \"\n",
    "    print(f'{playerNum}_roll{i+1}: {dice1}, {dice2}, total: {diceRollTotal}, runningTotal: {player1PointTotal if playerNum == \"P_One\" else player2PointTotal}')\n",
    "    time.sleep(0.4)\n",
    "    d1.append(dice1)\n",
    "    d2.append(dice2)\n",
    "\n",
    "# print(\"dice1: \", d1, \"dice2: \", d2)\n",
    "print(\"player1Point total: \", player1Point)\n",
    "print(\"player2Point total: \", player2Point)\n",
    "print(\"Player One is the winner!\" if player1PointTotal > player2PointTotal else \"Player Two is the winner!\" if player2PointTotal > player1PointTotal else \"tie / equal score\")"
   ]
  }
 ],
 "metadata": {
  "kernelspec": {
   "display_name": "Python 3",
   "language": "python",
   "name": "python3"
  },
  "language_info": {
   "codemirror_mode": {
    "name": "ipython",
    "version": 3
   },
   "file_extension": ".py",
   "mimetype": "text/x-python",
   "name": "python",
   "nbconvert_exporter": "python",
   "pygments_lexer": "ipython3",
   "version": "3.12.2"
  }
 },
 "nbformat": 4,
 "nbformat_minor": 5
}
